{
  "nbformat": 4,
  "nbformat_minor": 0,
  "metadata": {
    "colab": {
      "provenance": []
    },
    "kernelspec": {
      "name": "python3",
      "display_name": "Python 3"
    },
    "language_info": {
      "name": "python"
    }
  },
  "cells": [
    {
      "cell_type": "markdown",
      "source": [
        "1.\tDeclare int variables x and y and int* pointer variables p and q.  Set x to 2, y to 8, p to the address of x, and q to the address of y.  Then print the following information:\n",
        "\n",
        ">>(1) The address of x and the value of x.\n",
        "\n",
        ">>(2) The value of p and the value of *p.\n",
        "\n",
        ">>(3) The address of y and the value of y.\n",
        "\n",
        ">>(4) The value of q and the value of *q.\n",
        "\n",
        ">>(5) The address of p (not its contents!).\n",
        "\n",
        ">>(6) The address of q (not its contents!).\n",
        "\n",
        "2.\tDeclare int variables x, y, z and int* pointer variables p, q, r.  Set x, y, z to three distinct values.  Set p, q, r to the addresses of x, y, z respectively.\n",
        "\n",
        ">>(1) Print with labels the values of x, y, z, p, q, r, *p, *q, *r.\n",
        "\n",
        ">>(2) Write the swapValue function to swap: z = x; x = y; y = z;\n",
        "\n",
        ">>(3) Print with labels the values of x, y, z, p, q, r, *p, *q, *r.\n",
        "\n",
        "3.\tDeclare int variables x, y, z and int* pointer variables p, q, r.  Set x, y, z to three distinct values.  Set p, q, r to the addresses of x, y, z respectively.\n",
        "\n",
        ">>(1) Print with labels the values of x, y, z, p, q, r, *p, *q, *r.\n",
        "\n",
        ">>(2) Write the swapPointer function to swap: r = p; p = q; q = r;\n",
        "\n",
        ">>(3) Print with labels the values of x, y, z, p, q, r, *p, *q, *r.\n",
        "\n",
        "4.\tDefine a dynamic array a with n integers with n input from keyboard.\n",
        "\n",
        ">>(1) Write a function to fill array a with random values between 1 and 99\n",
        "\n",
        ">>(2) Write a function to sort array a in increasing order\n",
        "\n",
        ">>(3) Now double the size of array a (i.e. a now contains 2*n elements), also fill the new elements with random value between 1 and 99 then sort the array again use the function sort above"
      ],
      "metadata": {
        "id": "jv0WA126Rgm7"
      }
    },
    {
      "cell_type": "code",
      "source": [
        "!apt-get install libc6-dev"
      ],
      "metadata": {
        "colab": {
          "base_uri": "https://localhost:8080/"
        },
        "id": "HFra1OLHwWvo",
        "outputId": "9292053c-676b-410d-a7f9-e40ba33c1e06"
      },
      "execution_count": 1,
      "outputs": [
        {
          "output_type": "stream",
          "name": "stdout",
          "text": [
            "Reading package lists... Done\n",
            "Building dependency tree       \n",
            "Reading state information... Done\n",
            "libc6-dev is already the newest version (2.27-3ubuntu1.6).\n",
            "libc6-dev set to manually installed.\n",
            "The following package was automatically installed and is no longer required:\n",
            "  libnvidia-common-460\n",
            "Use 'apt autoremove' to remove it.\n",
            "0 upgraded, 0 newly installed, 0 to remove and 5 not upgraded.\n"
          ]
        }
      ]
    },
    {
      "cell_type": "code",
      "execution_count": 2,
      "metadata": {
        "id": "bjjIHzBEWTF-",
        "colab": {
          "base_uri": "https://localhost:8080/"
        },
        "outputId": "6a70ae72-c557-4ff7-dbfc-c9f985cf9ff6"
      },
      "outputs": [
        {
          "output_type": "stream",
          "name": "stdout",
          "text": [
            "Writing c-lab6.cpp\n"
          ]
        }
      ],
      "source": [
        "%%writefile c-lab6.cpp\n",
        "\n",
        "#include <stdio.h>\n",
        "#include <stdlib.h>\n",
        "#include <time.h>\n",
        "\n",
        "void swapValue(int x, int y, int z){\n",
        "        int temp = z;\n",
        "        z = x;\n",
        "        x = y;\n",
        "        y = z;\n",
        "    }\n",
        "void swapPointer(int *p, int *q, int *r){\n",
        "    int temp = *r;\n",
        "    *r = *p;\n",
        "    *p = *q;\n",
        "    *q = temp;\n",
        "}\n",
        "void fillArray(int arr[], int max, int n){\n",
        "    srand(time(NULL));\n",
        "    for (int i = 0; i < n; i++){\n",
        "        arr[i] = (rand() % max)  + 1;\n",
        "    }\n",
        "    for (int i= 0; i< n; i++){\n",
        "        printf(\"a[%d] = %d\\n\", i, arr[i]);\n",
        "    }\n",
        "}\n",
        "void sortArray(int arr[],int n){\n",
        " \n",
        "    for (int i = 0; i < n; i++){\n",
        "        for (int j = i+1; j < n; j++){\n",
        "            if (arr[j] < arr[i]){\n",
        "                int temp = arr[j];\n",
        "                arr[j] = arr[i];\n",
        "                arr[i] = temp;\n",
        "            }\n",
        "        }\n",
        "    }\n",
        "    for (int i= 0; i< n; i++){\n",
        "        printf(\"a[%d] = %d\\n\", i, arr[i]);\n",
        "    }\n",
        "}\n",
        "void EX2(){\n",
        "    int x, y, z;\n",
        "    int *p, *q, *r;\n",
        "    x = 6;\n",
        "    y = 8;\n",
        "    z = 16;\n",
        "    p = &x;\n",
        "    q = &y;\n",
        "    r = &z;\n",
        "    printf(\"Value of x: %d\\n\", x);\n",
        "    printf(\"Value of y: %d\\n\", y);\n",
        "    printf(\"Value of z: %d\\n\", z);\n",
        "    printf(\"Address of p: %p\\n\", p);\n",
        "    printf(\"Address of q: %p\\n\", q);\n",
        "    printf(\"Address of r: %p\\n\", r);\n",
        "    printf(\"Value of *p: %d\\n\", *p);\n",
        "    printf(\"Value of *q: %d\\n\", *q);\n",
        "    printf(\"Value of *r: %d\\n\", *r);\n",
        "    swapValue(x,y,z);\n",
        "    printf(\"Value of x: %d\\n\", x);\n",
        "    printf(\"Value of y: %d\\n\", y);\n",
        "    printf(\"Value of z: %d\\n\", z);\n",
        "    printf(\"Address of p: %p\\n\", p);\n",
        "    printf(\"Address of q: %p\\n\", q);\n",
        "    printf(\"Address of r: %p\\n\", r);\n",
        "    printf(\"Value of *p: %d\\n\", *p);\n",
        "    printf(\"Value of *q: %d\\n\", *q);\n",
        "    printf(\"Value of *r: %d\\n\", *r);\n",
        "    }\n",
        "void EX3(){\n",
        "    int x, y, z;\n",
        "    int *p, *q, *r;\n",
        "    x = 6;\n",
        "    y = 8;\n",
        "    z = 16;\n",
        "    p = &x;\n",
        "    q = &y;\n",
        "    r = &z;\n",
        "    printf(\"Value of x: %d\\n\", x);\n",
        "    printf(\"Value of y: %d\\n\", y);\n",
        "    printf(\"Value of z: %d\\n\", z);\n",
        "    printf(\"Address of p: %p\\n\", p);\n",
        "    printf(\"Address of q: %p\\n\", q);\n",
        "    printf(\"Address of r: %p\\n\", r);\n",
        "    printf(\"Value of *p: %d\\n\", *p);\n",
        "    printf(\"Value of *q: %d\\n\", *q);\n",
        "    printf(\"Value of *r: %d\\n\", *r);\n",
        "    swapPointer(p,q,r);\n",
        "    printf(\"Value of x: %d\\n\", x);\n",
        "    printf(\"Value of y: %d\\n\", y);\n",
        "    printf(\"Value of z: %d\\n\", z);\n",
        "    printf(\"Address of p: %p\\n\", p);\n",
        "    printf(\"Address of q: %p\\n\", q);\n",
        "    printf(\"Address of r: %p\\n\", r);\n",
        "    printf(\"Value of *p: %d\\n\", *p);\n",
        "    printf(\"Value of *q: %d\\n\", *q);\n",
        "    printf(\"Value of *r: %d\\n\", *r);\n",
        "}\n",
        "int main(){\n",
        "    //EX2;\n",
        "    //EX2();\n",
        "    //EX3\n",
        "    //EX3();\n",
        "    //EX4\n",
        "    int n;\n",
        "    printf(\"Size of the array: \");\n",
        "    scanf(\"%d\", &n);\n",
        "    int *arr = calloc(n, sizeof(int));\n",
        "    fillArray(arr, 99, n);\n",
        "    printf(\"//SORT ARRAY//\\n\");\n",
        "    sortArray(arr, n);\n",
        "    \n",
        "    printf(\"//RESIZE//\\n\");\n",
        "    \n",
        "    int m = 2*n;\n",
        "    int DoubleArr[m];\n",
        "    for (int i = 0; i < n; i++){\n",
        "        DoubleArr[i] = arr[i];\n",
        "    }\n",
        "\n",
        "    \n",
        "    srand(time(NULL));\n",
        "    for (int i = n; i < m; i++){\n",
        "        DoubleArr[i] = (rand() % 99)  + 1;\n",
        "    }\n",
        "    for (int i= 0; i< m; i++){\n",
        "        printf(\"a[%d] = %d\\n\", i, DoubleArr[i]);\n",
        "    }\n",
        "\n",
        "    for (int i = 0; i < m; i++){\n",
        "        for (int j = i+1; j < m; j++){\n",
        "            if (DoubleArr[j] < DoubleArr[i]){\n",
        "                int temp = DoubleArr[j];\n",
        "                DoubleArr[j] = DoubleArr[i];\n",
        "                DoubleArr[i] = temp;\n",
        "            }\n",
        "        }\n",
        "    }\n",
        "    for (int i= 0; i< m; i++){\n",
        "        printf(\"a[%d] = %d\\n\", i, DoubleArr[i]);\n",
        "    return 0;\n",
        "    }\n",
        "}"
      ]
    },
    {
      "cell_type": "code",
      "source": [
        "%%script bash\n",
        "\n",
        "g++ c-lab6.cpp -std=c++11 -o lab6.out\n",
        "./lab6.out"
      ],
      "metadata": {
        "colab": {
          "base_uri": "https://localhost:8080/",
          "height": 432
        },
        "id": "5mqxt6qlwSwo",
        "outputId": "cea05988-1a2a-4c34-9d4c-06323324cf01"
      },
      "execution_count": 3,
      "outputs": [
        {
          "output_type": "stream",
          "name": "stderr",
          "text": [
            "c-lab6.cpp: In function ‘int main()’:\n",
            "c-lab6.cpp:109:22: error: invalid conversion from ‘void*’ to ‘int*’ [-fpermissive]\n",
            "     int *arr = calloc(n, sizeof(int));\n",
            "                ~~~~~~^~~~~~~~~~~~~~~~\n",
            "bash: line 3: ./lab6.out: No such file or directory\n"
          ]
        },
        {
          "output_type": "error",
          "ename": "CalledProcessError",
          "evalue": "ignored",
          "traceback": [
            "\u001b[0;31m---------------------------------------------------------------------------\u001b[0m",
            "\u001b[0;31mCalledProcessError\u001b[0m                        Traceback (most recent call last)",
            "\u001b[0;32m<ipython-input-3-cee834d72652>\u001b[0m in \u001b[0;36m<module>\u001b[0;34m\u001b[0m\n\u001b[0;32m----> 1\u001b[0;31m \u001b[0mget_ipython\u001b[0m\u001b[0;34m(\u001b[0m\u001b[0;34m)\u001b[0m\u001b[0;34m.\u001b[0m\u001b[0mrun_cell_magic\u001b[0m\u001b[0;34m(\u001b[0m\u001b[0;34m'script'\u001b[0m\u001b[0;34m,\u001b[0m \u001b[0;34m'bash'\u001b[0m\u001b[0;34m,\u001b[0m \u001b[0;34m'\\ng++ c-lab6.cpp -std=c++11 -o lab6.out\\n./lab6.out\\n'\u001b[0m\u001b[0;34m)\u001b[0m\u001b[0;34m\u001b[0m\u001b[0;34m\u001b[0m\u001b[0m\n\u001b[0m",
            "\u001b[0;32m/usr/local/lib/python3.7/dist-packages/IPython/core/interactiveshell.py\u001b[0m in \u001b[0;36mrun_cell_magic\u001b[0;34m(self, magic_name, line, cell)\u001b[0m\n\u001b[1;32m   2357\u001b[0m             \u001b[0;32mwith\u001b[0m \u001b[0mself\u001b[0m\u001b[0;34m.\u001b[0m\u001b[0mbuiltin_trap\u001b[0m\u001b[0;34m:\u001b[0m\u001b[0;34m\u001b[0m\u001b[0;34m\u001b[0m\u001b[0m\n\u001b[1;32m   2358\u001b[0m                 \u001b[0margs\u001b[0m \u001b[0;34m=\u001b[0m \u001b[0;34m(\u001b[0m\u001b[0mmagic_arg_s\u001b[0m\u001b[0;34m,\u001b[0m \u001b[0mcell\u001b[0m\u001b[0;34m)\u001b[0m\u001b[0;34m\u001b[0m\u001b[0;34m\u001b[0m\u001b[0m\n\u001b[0;32m-> 2359\u001b[0;31m                 \u001b[0mresult\u001b[0m \u001b[0;34m=\u001b[0m \u001b[0mfn\u001b[0m\u001b[0;34m(\u001b[0m\u001b[0;34m*\u001b[0m\u001b[0margs\u001b[0m\u001b[0;34m,\u001b[0m \u001b[0;34m**\u001b[0m\u001b[0mkwargs\u001b[0m\u001b[0;34m)\u001b[0m\u001b[0;34m\u001b[0m\u001b[0;34m\u001b[0m\u001b[0m\n\u001b[0m\u001b[1;32m   2360\u001b[0m             \u001b[0;32mreturn\u001b[0m \u001b[0mresult\u001b[0m\u001b[0;34m\u001b[0m\u001b[0;34m\u001b[0m\u001b[0m\n\u001b[1;32m   2361\u001b[0m \u001b[0;34m\u001b[0m\u001b[0m\n",
            "\u001b[0;32m<decorator-gen-103>\u001b[0m in \u001b[0;36mshebang\u001b[0;34m(self, line, cell)\u001b[0m\n",
            "\u001b[0;32m/usr/local/lib/python3.7/dist-packages/IPython/core/magic.py\u001b[0m in \u001b[0;36m<lambda>\u001b[0;34m(f, *a, **k)\u001b[0m\n\u001b[1;32m    185\u001b[0m     \u001b[0;31m# but it's overkill for just that one bit of state.\u001b[0m\u001b[0;34m\u001b[0m\u001b[0;34m\u001b[0m\u001b[0;34m\u001b[0m\u001b[0m\n\u001b[1;32m    186\u001b[0m     \u001b[0;32mdef\u001b[0m \u001b[0mmagic_deco\u001b[0m\u001b[0;34m(\u001b[0m\u001b[0marg\u001b[0m\u001b[0;34m)\u001b[0m\u001b[0;34m:\u001b[0m\u001b[0;34m\u001b[0m\u001b[0;34m\u001b[0m\u001b[0m\n\u001b[0;32m--> 187\u001b[0;31m         \u001b[0mcall\u001b[0m \u001b[0;34m=\u001b[0m \u001b[0;32mlambda\u001b[0m \u001b[0mf\u001b[0m\u001b[0;34m,\u001b[0m \u001b[0;34m*\u001b[0m\u001b[0ma\u001b[0m\u001b[0;34m,\u001b[0m \u001b[0;34m**\u001b[0m\u001b[0mk\u001b[0m\u001b[0;34m:\u001b[0m \u001b[0mf\u001b[0m\u001b[0;34m(\u001b[0m\u001b[0;34m*\u001b[0m\u001b[0ma\u001b[0m\u001b[0;34m,\u001b[0m \u001b[0;34m**\u001b[0m\u001b[0mk\u001b[0m\u001b[0;34m)\u001b[0m\u001b[0;34m\u001b[0m\u001b[0;34m\u001b[0m\u001b[0m\n\u001b[0m\u001b[1;32m    188\u001b[0m \u001b[0;34m\u001b[0m\u001b[0m\n\u001b[1;32m    189\u001b[0m         \u001b[0;32mif\u001b[0m \u001b[0mcallable\u001b[0m\u001b[0;34m(\u001b[0m\u001b[0marg\u001b[0m\u001b[0;34m)\u001b[0m\u001b[0;34m:\u001b[0m\u001b[0;34m\u001b[0m\u001b[0;34m\u001b[0m\u001b[0m\n",
            "\u001b[0;32m/usr/local/lib/python3.7/dist-packages/IPython/core/magics/script.py\u001b[0m in \u001b[0;36mshebang\u001b[0;34m(self, line, cell)\u001b[0m\n\u001b[1;32m    243\u001b[0m             \u001b[0msys\u001b[0m\u001b[0;34m.\u001b[0m\u001b[0mstderr\u001b[0m\u001b[0;34m.\u001b[0m\u001b[0mflush\u001b[0m\u001b[0;34m(\u001b[0m\u001b[0;34m)\u001b[0m\u001b[0;34m\u001b[0m\u001b[0;34m\u001b[0m\u001b[0m\n\u001b[1;32m    244\u001b[0m         \u001b[0;32mif\u001b[0m \u001b[0margs\u001b[0m\u001b[0;34m.\u001b[0m\u001b[0mraise_error\u001b[0m \u001b[0;32mand\u001b[0m \u001b[0mp\u001b[0m\u001b[0;34m.\u001b[0m\u001b[0mreturncode\u001b[0m\u001b[0;34m!=\u001b[0m\u001b[0;36m0\u001b[0m\u001b[0;34m:\u001b[0m\u001b[0;34m\u001b[0m\u001b[0;34m\u001b[0m\u001b[0m\n\u001b[0;32m--> 245\u001b[0;31m             \u001b[0;32mraise\u001b[0m \u001b[0mCalledProcessError\u001b[0m\u001b[0;34m(\u001b[0m\u001b[0mp\u001b[0m\u001b[0;34m.\u001b[0m\u001b[0mreturncode\u001b[0m\u001b[0;34m,\u001b[0m \u001b[0mcell\u001b[0m\u001b[0;34m,\u001b[0m \u001b[0moutput\u001b[0m\u001b[0;34m=\u001b[0m\u001b[0mout\u001b[0m\u001b[0;34m,\u001b[0m \u001b[0mstderr\u001b[0m\u001b[0;34m=\u001b[0m\u001b[0merr\u001b[0m\u001b[0;34m)\u001b[0m\u001b[0;34m\u001b[0m\u001b[0;34m\u001b[0m\u001b[0m\n\u001b[0m\u001b[1;32m    246\u001b[0m \u001b[0;34m\u001b[0m\u001b[0m\n\u001b[1;32m    247\u001b[0m     \u001b[0;32mdef\u001b[0m \u001b[0m_run_script\u001b[0m\u001b[0;34m(\u001b[0m\u001b[0mself\u001b[0m\u001b[0;34m,\u001b[0m \u001b[0mp\u001b[0m\u001b[0;34m,\u001b[0m \u001b[0mcell\u001b[0m\u001b[0;34m,\u001b[0m \u001b[0mto_close\u001b[0m\u001b[0;34m)\u001b[0m\u001b[0;34m:\u001b[0m\u001b[0;34m\u001b[0m\u001b[0;34m\u001b[0m\u001b[0m\n",
            "\u001b[0;31mCalledProcessError\u001b[0m: Command 'b'\\ng++ c-lab6.cpp -std=c++11 -o lab6.out\\n./lab6.out\\n'' returned non-zero exit status 127."
          ]
        }
      ]
    }
  ]
}